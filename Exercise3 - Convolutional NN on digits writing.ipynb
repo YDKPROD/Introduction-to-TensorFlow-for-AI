{
 "cells": [
  {
   "cell_type": "markdown",
   "metadata": {
    "colab_type": "text",
    "id": "iQjHqsmTAVLU"
   },
   "source": [
    "## Exercise 3\n",
    "In the videos you looked at how you would improve Fashion MNIST using Convolutions. For your exercise see if you can improve MNIST to 99.8% accuracy or more using only a single convolutional layer and a single MaxPooling 2D. You should stop training once the accuracy goes above this amount. It should happen in less than 20 epochs, so it's ok to hard code the number of epochs for training, but your training must end once it hits the above metric. If it doesn't, then you'll need to redesign your layers.\n",
    "\n",
    "I've started the code for you -- you need to finish it!\n",
    "\n",
    "When 99.8% accuracy has been hit, you should print out the string \"Reached 99.8% accuracy so cancelling training!\"\n"
   ]
  },
  {
   "cell_type": "code",
   "execution_count": 1,
   "metadata": {},
   "outputs": [],
   "source": [
    "import tensorflow as tf\n",
    "from os import path, getcwd, chdir\n",
    "\n",
    "# DO NOT CHANGE THE LINE BELOW. If you are developing in a local\n",
    "# environment, then grab mnist.npz from the Coursera Jupyter Notebook\n",
    "# and place it inside a local folder and edit the path to that location\n",
    "path = f\"{getcwd()}/../mnist.npz\""
   ]
  },
  {
   "cell_type": "code",
   "execution_count": 2,
   "metadata": {},
   "outputs": [],
   "source": [
    "config = tf.compat.v1.ConfigProto()\n",
    "config.gpu_options.allow_growth = True\n",
    "sess = tf.compat.v1.Session(config=config)"
   ]
  },
  {
   "cell_type": "code",
   "execution_count": 3,
   "metadata": {},
   "outputs": [],
   "source": [
    "def train_mnist_conv():\n",
    "    \n",
    "    #create a call back class\n",
    "    #if it reaches 99,8% accuracy on training\n",
    "    class myCallBack(tf.keras.callbacks.Callback):\n",
    "        def on_epoch_end(self, epoch, logs={}):\n",
    "            if(logs.get('accuracy') > 0.998):\n",
    "                print('\\n Reached 99.8% accuracy so cancelling training')\n",
    "                self.model.stop_training = True\n",
    "    #load the dataset\n",
    "    mnist = tf.keras.datasets.mnist\n",
    "    #create train and test sets\n",
    "    (training_images, training_labels), (test_images, test_labels) = mnist.load_data(path=path)\n",
    "    \n",
    "    #rescale and normalize the data to fit in the model\n",
    "    #60000 images, 28*28, 1 byte for color (greyscale)\n",
    "    training_images = training_images.reshape(60000, 28, 28, 1)\n",
    "    training_images = training_images / 255.0\n",
    "    #10000 images, 28*28, 1 byte for color (greyscale)\n",
    "    test_images = test_images.reshape(10000, 28, 28, 1)\n",
    "    test_images = test_images / 255.0\n",
    "    \n",
    "    callback = myCallBack()\n",
    "    #create the model with convolutional layers, 64 filters of 3*3\n",
    "    #128 neurons and there is 10 classes in the dataset\n",
    "    model = tf.keras.models.Sequential([tf.keras.layers.Conv2D(64, (3, 3), activation = 'relu', input_shape = (28, 28, 1)),\n",
    "                                        tf.keras.layers.MaxPooling2D(2, 2),\n",
    "                                        tf.keras.layers.Conv2D(64, (3, 3), activation = 'relu'),\n",
    "                                        tf.keras.layers.MaxPooling2D(2, 2),\n",
    "                                        tf.keras.layers.Flatten(),\n",
    "                                        tf.keras.layers.Dense(128, activation = 'relu'),\n",
    "                                        tf.keras.layers.Dense(10, activation = 'softmax')])\n",
    "    \n",
    "    #compile the model\n",
    "    model.compile(optimizer='adam', loss='sparse_categorical_crossentropy', metrics=['accuracy'])\n",
    "    # model fitting\n",
    "    history = model.fit(training_images, training_labels, epochs = 20, callbacks = [callback])\n",
    "    \n",
    "    # model fitting\n",
    "    return history.epoch, history.history['accuracy'][-1]\n",
    "\n"
   ]
  },
  {
   "cell_type": "code",
   "execution_count": 4,
   "metadata": {},
   "outputs": [
    {
     "name": "stdout",
     "output_type": "stream",
     "text": [
      "WARNING:tensorflow:From /home/emmanuel/.local/lib/python3.6/site-packages/tensorflow/python/ops/math_grad.py:1250: add_dispatch_support.<locals>.wrapper (from tensorflow.python.ops.array_ops) is deprecated and will be removed in a future version.\n",
      "Instructions for updating:\n",
      "Use tf.where in 2.0, which has the same broadcast rule as np.where\n",
      "Train on 60000 samples\n",
      "Epoch 1/20\n",
      "60000/60000 [==============================] - 32s 529us/sample - loss: 0.1211 - accuracy: 0.9623\n",
      "Epoch 2/20\n",
      "60000/60000 [==============================] - 34s 566us/sample - loss: 0.0406 - accuracy: 0.9876\n",
      "Epoch 3/20\n",
      "60000/60000 [==============================] - 34s 567us/sample - loss: 0.0272 - accuracy: 0.9914\n",
      "Epoch 4/20\n",
      "60000/60000 [==============================] - 34s 560us/sample - loss: 0.0201 - accuracy: 0.9935\n",
      "Epoch 5/20\n",
      "60000/60000 [==============================] - 32s 535us/sample - loss: 0.0154 - accuracy: 0.9952\n",
      "Epoch 6/20\n",
      "60000/60000 [==============================] - 33s 549us/sample - loss: 0.0121 - accuracy: 0.9961\n",
      "Epoch 7/20\n",
      "60000/60000 [==============================] - 32s 540us/sample - loss: 0.0096 - accuracy: 0.9969\n",
      "Epoch 8/20\n",
      "60000/60000 [==============================] - 32s 533us/sample - loss: 0.0078 - accuracy: 0.9975\n",
      "Epoch 9/20\n",
      "60000/60000 [==============================] - 32s 532us/sample - loss: 0.0083 - accuracy: 0.9975\n",
      "Epoch 10/20\n",
      "59936/60000 [============================>.] - ETA: 0s - loss: 0.0053 - accuracy: 0.9984\n",
      " Reached 99.8% accuracy so cancelling training\n",
      "60000/60000 [==============================] - 32s 534us/sample - loss: 0.0053 - accuracy: 0.9984\n"
     ]
    }
   ],
   "source": [
    "_, _ = train_mnist_conv()"
   ]
  },
  {
   "cell_type": "code",
   "execution_count": null,
   "metadata": {},
   "outputs": [],
   "source": []
  }
 ],
 "metadata": {
  "coursera": {
   "course_slug": "introduction-tensorflow",
   "graded_item_id": "ml06H",
   "launcher_item_id": "hQF8A"
  },
  "kernelspec": {
   "display_name": "Python 3",
   "language": "python",
   "name": "python3"
  },
  "language_info": {
   "codemirror_mode": {
    "name": "ipython",
    "version": 3
   },
   "file_extension": ".py",
   "mimetype": "text/x-python",
   "name": "python",
   "nbconvert_exporter": "python",
   "pygments_lexer": "ipython3",
   "version": "3.6.9"
  }
 },
 "nbformat": 4,
 "nbformat_minor": 1
}
